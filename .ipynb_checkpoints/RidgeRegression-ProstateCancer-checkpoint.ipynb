{
 "metadata": {
  "name": "",
  "signature": "sha256:7be722b28e6af82e3512da93fe0d615b828fafcafbddc3d76b7115711e905cc1"
 },
 "nbformat": 3,
 "nbformat_minor": 0,
 "worksheets": [
  {
   "cells": [
    {
     "cell_type": "code",
     "collapsed": false,
     "input": [],
     "language": "python",
     "metadata": {},
     "outputs": []
    }
   ],
   "metadata": {}
  }
 ]
}