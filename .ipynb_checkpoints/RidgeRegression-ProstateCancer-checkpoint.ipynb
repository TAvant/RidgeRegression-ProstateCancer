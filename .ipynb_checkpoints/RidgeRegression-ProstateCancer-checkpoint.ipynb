{
 "metadata": {
  "name": "",
  "signature": "sha256:237bf12b8e3de92dd4db0ec4df7613a33694c86382e60cf26b81beb1c75870b9"
 },
 "nbformat": 3,
 "nbformat_minor": 0,
 "worksheets": [
  {
   "cells": [
    {
     "cell_type": "heading",
     "level": 1,
     "metadata": {},
     "source": [
      "Ridge Regression"
     ]
    },
    {
     "cell_type": "code",
     "collapsed": false,
     "input": [
      "import numpy as np"
     ],
     "language": "python",
     "metadata": {},
     "outputs": [],
     "prompt_number": 1
    },
    {
     "cell_type": "code",
     "collapsed": false,
     "input": [
      "# bring in the cancer data\n",
      "cancer = np.loadtxt('../Data/prostate.txt', skiprows=1, usecols=(1,2,3,4,5,6,7,8,9))\n",
      "train_idx = np.genfromtxt('../Data/prostate.txt', skiprows=1, usecols=(10), dtype='str')\n",
      "\n",
      "# seperate cancer data into training and testing sets\n",
      "train_data = cancer[train_idx == 'T', :]\n",
      "test_data = cancer[train_idx != 'T', :]\n",
      "\n",
      "# fit the training data to a ridge regression model\n",
      "# predict outputs of the test data\n",
      "# get residual sum of squares (RSS)\n",
      "# get eigen values\n",
      "# plot the RSS against eigen values"
     ],
     "language": "python",
     "metadata": {},
     "outputs": [],
     "prompt_number": 36
    },
    {
     "cell_type": "code",
     "collapsed": false,
     "input": [],
     "language": "python",
     "metadata": {},
     "outputs": []
    }
   ],
   "metadata": {}
  }
 ]
}