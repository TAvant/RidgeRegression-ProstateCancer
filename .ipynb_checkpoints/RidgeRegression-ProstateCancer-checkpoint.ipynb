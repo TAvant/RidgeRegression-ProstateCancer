{
 "metadata": {
  "name": "",
  "signature": "sha256:f874d356a226ad1ab4a78641969e23ba7ed39bdf1cb07a58e755fbe597c37f34"
 },
 "nbformat": 3,
 "nbformat_minor": 0,
 "worksheets": [
  {
   "cells": [
    {
     "cell_type": "heading",
     "level": 1,
     "metadata": {},
     "source": [
      "Ridge Regression"
     ]
    },
    {
     "cell_type": "code",
     "collapsed": false,
     "input": [
      "# bring in the cancer data\n",
      "\n",
      "\n",
      "# seperate cancer data into train and test sets\n",
      "# fit the training data to a ridge regression model\n",
      "# predict outputs of the test data\n",
      "# get residual sum of squares (RSS)\n",
      "# get eigen values\n",
      "# plot the RSS against eigen values"
     ],
     "language": "python",
     "metadata": {},
     "outputs": []
    }
   ],
   "metadata": {}
  }
 ]
}